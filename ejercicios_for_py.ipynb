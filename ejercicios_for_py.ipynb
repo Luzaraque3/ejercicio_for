{
  "nbformat": 4,
  "nbformat_minor": 0,
  "metadata": {
    "colab": {
      "provenance": [],
      "authorship_tag": "ABX9TyNG+hICaUg1TrS5PvC2Xpue",
      "include_colab_link": true
    },
    "kernelspec": {
      "name": "python3",
      "display_name": "Python 3"
    },
    "language_info": {
      "name": "python"
    }
  },
  "cells": [
    {
      "cell_type": "markdown",
      "metadata": {
        "id": "view-in-github",
        "colab_type": "text"
      },
      "source": [
        "<a href=\"https://colab.research.google.com/github/Luzaraque3/ejercicio_for/blob/main/ejercicios_for_py.ipynb\" target=\"_parent\"><img src=\"https://colab.research.google.com/assets/colab-badge.svg\" alt=\"Open In Colab\"/></a>"
      ]
    },
    {
      "cell_type": "markdown",
      "source": [
        "# INSTRUCCION REPETITIVA FOR"
      ],
      "metadata": {
        "id": "rXq0bCwEq5vT"
      }
    },
    {
      "cell_type": "code",
      "execution_count": null,
      "metadata": {
        "id": "chue0FMNqbjL"
      },
      "outputs": [],
      "source": [
        "# EJERCICIO1: mostrr los nuemros del 1 al 10, sin usar istrucciones repetitivas\n",
        "\n",
        "print(1)\n",
        "print(2)\n",
        "print(3)\n",
        "print(4)\n",
        "print(5)\n",
        "print(6)\n",
        "print(7)\n",
        "print(8)\n",
        "print(9)\n",
        "print(10)"
      ]
    },
    {
      "cell_type": "code",
      "source": [
        "# EJERCICIO 2: mostrar los numeros del 1 al 10, usando la insruccion while\n",
        "\n",
        "contador = 1\n",
        "print(contador)\n",
        "while contador <10:\n",
        "  #contador = contador + 1\n",
        "  contador += 1\n",
        "  print(contador) "
      ],
      "metadata": {
        "id": "l7qMKNVVtcDp"
      },
      "execution_count": null,
      "outputs": []
    },
    {
      "cell_type": "code",
      "source": [
        "# EJERCICO 3: mostrar los umeros del 1 al 10, usando la instruccion for y una lista como iterable\n",
        "\n",
        "lista = [1,2,3,4,5,6,7,8,9,10]\n",
        "for i in lista:\n",
        "  print(i)"
      ],
      "metadata": {
        "id": "KEit0_4ZvPYN"
      },
      "execution_count": null,
      "outputs": []
    },
    {
      "cell_type": "code",
      "source": [
        "# EJERCICO 4: mostrar los numeros del 1 al 10, usando la instruccion for y la funcion range\n",
        "\n",
        "for i in range(1,11):\n",
        "  print(i)"
      ],
      "metadata": {
        "id": "ixg8cA60wu2_"
      },
      "execution_count": null,
      "outputs": []
    },
    {
      "cell_type": "code",
      "source": [
        "# EJERCICIO 5: mostrar una frase 10 veces, usando la instruccion for y una lista\n",
        "\n",
        "lista = [1,2,3,4,5,6,7,8,9,10]\n",
        "for i in lista:\n",
        "  print(f\"{i} sistemas el mejor\")"
      ],
      "metadata": {
        "id": "SgX26scyxezH"
      },
      "execution_count": null,
      "outputs": []
    },
    {
      "cell_type": "code",
      "source": [
        "# Ejercicio 6: mostrar la silana inicial de los dias de la semana. usando for y una lista con la silaba inicial de los dias de la semana\n",
        "\n",
        "dias_semana =[\"lu\", \"ma\", \"mi\", \"ju\", \"vi\", \"sa\", \"do\"]\n",
        "for i in dias_semana:\n",
        "  print(i)"
      ],
      "metadata": {
        "id": "UFVY_ABgyeZt"
      },
      "execution_count": null,
      "outputs": []
    },
    {
      "cell_type": "code",
      "source": [
        "# EJERCICIO 7: mostrar una lista de distintos tipos de datos, usando for\n",
        "\n",
        "lista = [1, 3,4, 9, True, \"Luz\", 8, \"Guanenta\"]\n",
        "for i in lista:\n",
        "  print(i)"
      ],
      "metadata": {
        "id": "LI3wLy4gzTaN"
      },
      "execution_count": null,
      "outputs": []
    },
    {
      "cell_type": "code",
      "source": [
        "# EJERCICIO 8: ingresar su nombre y mostrando letra por letra, usando for\n",
        "\n",
        "nombre = input(\"Digite su nombre: \")\n",
        "for letra in nombre:\n",
        "  print(letra)"
      ],
      "metadata": {
        "id": "Fx6QnRULz-vM"
      },
      "execution_count": null,
      "outputs": []
    },
    {
      "cell_type": "code",
      "source": [
        "# EJERCICIO 9: ingresar nombre y mostrarlo letra a letra usando for cambiando por asterisco * a la vocal e\n",
        "\n",
        "nombre = input(\"Digite su nombre: \")\n",
        "for letra in nombre:\n",
        "  if letra == \"e\":\n",
        "    print(\"*\")\n",
        "  else:\n",
        "    print(letra)"
      ],
      "metadata": {
        "id": "WQC5lQ6L02i3"
      },
      "execution_count": null,
      "outputs": []
    },
    {
      "cell_type": "code",
      "source": [
        "# EJERCICIO 10: ingresar su nombre y mostrarlo letra por letra, en mayuscula, usando for.\n",
        "\n",
        "nombre = input(\"Digite su nombre: \")\n",
        "for letra in nombre:\n",
        "  print(letra.upper()) "
      ],
      "metadata": {
        "id": "1sbQoGNF104W"
      },
      "execution_count": null,
      "outputs": []
    },
    {
      "cell_type": "code",
      "source": [
        "# EJERCICIO 11: imprimir listas de numeros, usando for y range\n",
        "\n",
        "print(\"Numeros del 0 al 9\")\n",
        "for i in range(10):\n",
        "  print(i)\n",
        "\n",
        "print(\"Numeros del 1 al 10\")\n",
        "for i in range(10):\n",
        "  print(i)\n",
        "\n",
        "print(\"10 veces las frases\")\n",
        "for i in range(10):\n",
        "  print(i)\n",
        "\n",
        "print(\"10 veces la frase 1 = \")\n",
        "for i in range(10):\n",
        "  print(\"i = \" + str (i))\n",
        "\n",
        "print(\"10 veces la frase i = \")\n",
        "for i in range(10):\n",
        "  print(f\"i = {i}\")\n",
        "\n",
        "print(\"Rango del 7 al 18, incrementando de 4 en 4\")\n",
        "for i in range(7,19,4):\n",
        "  print(i)\n",
        "\n",
        "print (\"Convierte rango en lista a, y la muesta\")\n",
        "a = list(range(100))\n",
        "print(a)"
      ],
      "metadata": {
        "id": "87rr5-0yAoH3"
      },
      "execution_count": null,
      "outputs": []
    },
    {
      "cell_type": "markdown",
      "source": [
        "# EJERCICIOS\n",
        "1. Dadala siguiente lista de números, [20, 21, 30, 41, 50, 51, 201] mostrar en la pantalla solo los que NO terminan en 1.\n",
        "2. Mostrar 100 veces la palabra \"Programacion\"\n",
        "3. Del conjunto de cadenas [\"E\", \"F\", \"M\", \"A\"] que correspondan a las iniciales de los primeros cuatro meses del año, mostrar el nombre completos de dichos meses.\n",
        "4. Leer un texto y determina cuántas veces dicho texto contiene cada de las vocales en minusculs y/o mayúsculas."
      ],
      "metadata": {
        "id": "1u7GfrnMGhkL"
      }
    }
  ]
}